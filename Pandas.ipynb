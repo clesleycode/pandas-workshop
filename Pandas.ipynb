{
 "cells": [
  {
   "cell_type": "markdown",
   "metadata": {},
   "source": [
    "# Exploring Data with Pandas"
   ]
  },
  {
   "cell_type": "markdown",
   "metadata": {},
   "source": [
    "## Learning objectives\n",
    "\n",
    "* Understand the role of `pandas` in the Python ecosystem.\n",
    "* Read a flat file (CSV) dataset into Python with `pandas`.\n",
    "* Understand the basic features of a `DataFrame`.\n",
    "* Employ slicing to select subsets of data from a `DataFrame`.\n",
    "* Use label- and integer-based indexing to select ranges of data in a `DataFrame`."
   ]
  },
  {
   "cell_type": "markdown",
   "metadata": {},
   "source": [
    "## Introduction \n",
    "\n",
    "Data Scientists spend an incredible amount of time and skills acquiring, prepping, cleaning, and normalizing data. In this workshops, we'll review one of the most important tools used during this process, `pandas`. \n",
    "\n",
    "But first, let's review the differences between Data Acquisition, Preparation, and Cleaning.\n",
    "\n",
    "### Data Acquisition\n",
    "\n",
    "Many times, your data might be already given to you, in which case you won't have to worry about data acquisition. However, this is not always the case. The process of actually getting a dataset to work with is called **data acquisition**. For the purposes of this tutorial, we won't be providing an in-depth review of data acquisition methodology, but this should provide some context as to how `pandas` fits into the data science ecosystem. \n",
    "\n",
    "### Data Preparation\n",
    "\n",
    "Now, once a dataset is acquired, it might not be in a suitable format to work with. In some cases, you might have scraped data from a website or simply downloaded a zipfile containing multiple CSV files. Luckily, `pandas` provides Python users with an important data type you can use to work with data in an easy manner. This process of converting data into a suitable format is called **data preparation**.\n",
    "\n",
    "\n",
    "### Data Cleaning\n",
    "\n",
    "Now that your data is being handled in a proper manner, your work with it still might not be done. You might have missing values, values that need normalizing, or values in the wrong data type. These inconsistencies that you fix before analysis refers to **data cleaning**.  "
   ]
  },
  {
   "cell_type": "markdown",
   "metadata": {},
   "source": [
    "## Pandas\n",
    "\n",
    "Now that we've reviewed the process in which `pandas` fits in as a Python tool, we will begin to review pandas and its different capabilities. \n",
    "\n",
    "Pandas allows us to deal with data in a user-friendly way by providing with an important data type, referred to as a `DataFrame`, not otherwise available in Python. With `pandas` we can effortlessly import data from files such as CSVs into a DataFrame object, allowing us to quickly apply transformations, filters, and other data wrangling methodology to our data.\n",
    "\n",
    "To begin this tutorial, we'll need to first import `pandas`. Typically, the shorthand alias used is `pd`."
   ]
  },
  {
   "cell_type": "code",
   "execution_count": 5,
   "metadata": {},
   "outputs": [],
   "source": [
    "import pandas as pd"
   ]
  },
  {
   "cell_type": "markdown",
   "metadata": {},
   "source": [
    "## Series\n",
    "\n",
    "Before we review the DataFrame object in `pandas`, we'll begin by reviewing the `series` data type. \n",
    "\n",
    "In its simplest form, a Series is a one-dimensional object containing an array of data. Below, you'll see that we use the `pandas.Series()` function to define an example containing 4 numbers. Notice that the input of this method *is* a Python list."
   ]
  },
  {
   "cell_type": "code",
   "execution_count": 6,
   "metadata": {},
   "outputs": [
    {
     "name": "stdout",
     "output_type": "stream",
     "text": [
      "<class 'list'>\n"
     ]
    }
   ],
   "source": [
    "l1 = [1,2,3]\n",
    "print(type(l1))"
   ]
  },
  {
   "cell_type": "code",
   "execution_count": 7,
   "metadata": {},
   "outputs": [],
   "source": [
    "obj = pd.Series([4, 7, -5, 3])"
   ]
  },
  {
   "cell_type": "markdown",
   "metadata": {},
   "source": [
    "Series are incredibly similar to your typical list in Python, however, it **is** distinctive, which we can display by printing the data type of the series below."
   ]
  },
  {
   "cell_type": "code",
   "execution_count": 8,
   "metadata": {},
   "outputs": [
    {
     "name": "stdout",
     "output_type": "stream",
     "text": [
      "<class 'pandas.core.series.Series'>\n"
     ]
    }
   ],
   "source": [
    "print(type(obj))"
   ]
  },
  {
   "cell_type": "markdown",
   "metadata": {},
   "source": [
    "The reason for this distinction is because `pandas` allows us to attach our own custom indices, as shown below"
   ]
  },
  {
   "cell_type": "code",
   "execution_count": 9,
   "metadata": {},
   "outputs": [
    {
     "name": "stdout",
     "output_type": "stream",
     "text": [
      "d    4\n",
      "b    7\n",
      "a   -5\n",
      "c    3\n",
      "dtype: int64\n"
     ]
    }
   ],
   "source": [
    "obj2 = pd.Series([4, 7, -5, 3], index=['d', 'b', 'a', 'c'])\n",
    "print(obj2)"
   ]
  },
  {
   "cell_type": "markdown",
   "metadata": {},
   "source": [
    "You might be thinking, \"is this not the same thing as a dictionary?\", a fair question for anyone beginning to learn `pandas`. Now, the useful thing is that we can, indeed, easily convert a dictionary to a series, as you can see in the code below. "
   ]
  },
  {
   "cell_type": "code",
   "execution_count": 10,
   "metadata": {},
   "outputs": [],
   "source": [
    "sdata = {'Ohio': 35000, 'Texas': 71000, 'Oregon': 16000, 'Utah': 5000}\n",
    "obj3 = pd.Series(sdata)"
   ]
  },
  {
   "cell_type": "markdown",
   "metadata": {},
   "source": [
    "But notice that if the actual object is printed, as well as its type, the format is much more readable with the series object. This is incredibly useful for when a user needs to visually interact with the data."
   ]
  },
  {
   "cell_type": "code",
   "execution_count": 11,
   "metadata": {},
   "outputs": [
    {
     "name": "stdout",
     "output_type": "stream",
     "text": [
      "<class 'dict'>\n"
     ]
    }
   ],
   "source": [
    "print(type(sdata))"
   ]
  },
  {
   "cell_type": "code",
   "execution_count": 12,
   "metadata": {},
   "outputs": [
    {
     "name": "stdout",
     "output_type": "stream",
     "text": [
      "{'Ohio': 35000, 'Texas': 71000, 'Oregon': 16000, 'Utah': 5000}\n"
     ]
    }
   ],
   "source": [
    "print(sdata)"
   ]
  },
  {
   "cell_type": "code",
   "execution_count": 13,
   "metadata": {},
   "outputs": [
    {
     "name": "stdout",
     "output_type": "stream",
     "text": [
      "<class 'pandas.core.series.Series'>\n"
     ]
    }
   ],
   "source": [
    "print(type(obj3))"
   ]
  },
  {
   "cell_type": "code",
   "execution_count": 14,
   "metadata": {},
   "outputs": [
    {
     "name": "stdout",
     "output_type": "stream",
     "text": [
      "Ohio      35000\n",
      "Oregon    16000\n",
      "Texas     71000\n",
      "Utah       5000\n",
      "dtype: int64\n"
     ]
    }
   ],
   "source": [
    "print(obj3)"
   ]
  },
  {
   "cell_type": "markdown",
   "metadata": {},
   "source": [
    "## DataFrames\n",
    "\n",
    "Now that we've reviewed the simplest object in `pandas`, we're ready to tackle on the DataFrame object. A DataFrame represents a tabular, spreadsheet-like data structure containing an ordered collection of columns, each of which can be a different value type (numeric, string, boolean, etc.).\n",
    "\n",
    "There are numerous ways to construct a DataFrame, though one of the most common is from a dict of equal-length lists."
   ]
  },
  {
   "cell_type": "code",
   "execution_count": 15,
   "metadata": {},
   "outputs": [
    {
     "name": "stdout",
     "output_type": "stream",
     "text": [
      "   pop   state  year\n",
      "0  1.5    Ohio  2000\n",
      "1  1.7    Ohio  2001\n",
      "2  3.6    Ohio  2002\n",
      "3  2.4  Nevada  2001\n",
      "4  2.9  Nevada  2002\n"
     ]
    }
   ],
   "source": [
    "data = {'state': ['Ohio', 'Ohio', 'Ohio', 'Nevada', 'Nevada'], \n",
    "        'year': [2000, 2001, 2002, 2001, 2002], \n",
    "        'pop': [1.5, 1.7, 3.6, 2.4, 2.9]}\n",
    "frame = pd.DataFrame(data)\n",
    "print(frame)"
   ]
  },
  {
   "cell_type": "markdown",
   "metadata": {},
   "source": [
    "To select a single column, the syntax is treated the same way you would a dictionary, with brackets inside which contains the column name. \n",
    "\n",
    "It's important to note that DataFrames are actually a collection of `series`, which we can see is true when we index one of the columns and print its type."
   ]
  },
  {
   "cell_type": "code",
   "execution_count": 16,
   "metadata": {},
   "outputs": [
    {
     "name": "stdout",
     "output_type": "stream",
     "text": [
      "<class 'pandas.core.series.Series'>\n"
     ]
    }
   ],
   "source": [
    "sel = frame['state']\n",
    "print(type(sel))"
   ]
  },
  {
   "cell_type": "markdown",
   "metadata": {},
   "source": [
    "## Challenge Question\n",
    "\n",
    "True or False: Series and Dictionaries can converted to one another with one simple function call."
   ]
  },
  {
   "cell_type": "markdown",
   "metadata": {},
   "source": [
    "## CSV Files\n",
    "\n",
    "It was briefly mentioned earlier that one of the advantages of Python is to easily convert a CSV file to a pandas DataFrame. \n",
    "\n",
    "Using [this](https://s3.amazonaws.com/assets.datacamp.com/production/course_1639/datasets/world_ind_pop_data.csv) csv file, which is population data from the World Bank, we'll use pandas to convert this file to a DataFrame -- all in two lines of code. "
   ]
  },
  {
   "cell_type": "code",
   "execution_count": 40,
   "metadata": {},
   "outputs": [
    {
     "name": "stdout",
     "output_type": "stream",
     "text": [
      "                                          CountryName CountryCode  Year  \\\n",
      "0                                          Arab World         ARB  1960   \n",
      "1                              Caribbean small states         CSS  1960   \n",
      "2                      Central Europe and the Baltics         CEB  1960   \n",
      "3             East Asia & Pacific (all income levels)         EAS  1960   \n",
      "4               East Asia & Pacific (developing only)         EAP  1960   \n",
      "5                                           Euro area         EMU  1960   \n",
      "6           Europe & Central Asia (all income levels)         ECS  1960   \n",
      "7             Europe & Central Asia (developing only)         ECA  1960   \n",
      "8                                      European Union         EUU  1960   \n",
      "9            Fragile and conflict affected situations         FCS  1960   \n",
      "10             Heavily indebted poor countries (HIPC)         HPC  1960   \n",
      "11                                        High income         HIC  1960   \n",
      "12                               High income: nonOECD         NOC  1960   \n",
      "13                                  High income: OECD         OEC  1960   \n",
      "14      Latin America & Caribbean (all income levels)         LCN  1960   \n",
      "15        Latin America & Caribbean (developing only)         LAC  1960   \n",
      "16       Least developed countries: UN classification         LDC  1960   \n",
      "17                                Low & middle income         LMY  1960   \n",
      "18                                         Low income         LIC  1960   \n",
      "19                                Lower middle income         LMC  1960   \n",
      "20     Middle East & North Africa (all income levels)         MEA  1960   \n",
      "21       Middle East & North Africa (developing only)         MNA  1960   \n",
      "22                                      Middle income         MIC  1960   \n",
      "23                                      North America         NAC  1960   \n",
      "24                                       OECD members         OED  1960   \n",
      "25                                 Other small states         OSS  1960   \n",
      "26                        Pacific island small states         PSS  1960   \n",
      "27                                       Small states         SST  1960   \n",
      "28                                         South Asia         SAS  1960   \n",
      "29             Sub-Saharan Africa (all income levels)         SSF  1960   \n",
      "...                                               ...         ...   ...   \n",
      "13344                                          Sweden         SWE  2014   \n",
      "13345                                     Switzerland         CHE  2014   \n",
      "13346                            Syrian Arab Republic         SYR  2014   \n",
      "13347                                      Tajikistan         TJK  2014   \n",
      "13348                                        Tanzania         TZA  2014   \n",
      "13349                                        Thailand         THA  2014   \n",
      "13350                                     Timor-Leste         TMP  2014   \n",
      "13351                                            Togo         TGO  2014   \n",
      "13352                                           Tonga         TON  2014   \n",
      "13353                             Trinidad and Tobago         TTO  2014   \n",
      "13354                                         Tunisia         TUN  2014   \n",
      "13355                                          Turkey         TUR  2014   \n",
      "13356                                    Turkmenistan         TKM  2014   \n",
      "13357                        Turks and Caicos Islands         TCA  2014   \n",
      "13358                                          Tuvalu         TUV  2014   \n",
      "13359                                          Uganda         UGA  2014   \n",
      "13360                                         Ukraine         UKR  2014   \n",
      "13361                            United Arab Emirates         ARE  2014   \n",
      "13362                                  United Kingdom         GBR  2014   \n",
      "13363                                   United States         USA  2014   \n",
      "13364                                         Uruguay         URY  2014   \n",
      "13365                                      Uzbekistan         UZB  2014   \n",
      "13366                                         Vanuatu         VUT  2014   \n",
      "13367                                   Venezuela, RB         VEN  2014   \n",
      "13368                                         Vietnam         VNM  2014   \n",
      "13369                           Virgin Islands (U.S.)         VIR  2014   \n",
      "13370                              West Bank and Gaza         WBG  2014   \n",
      "13371                                     Yemen, Rep.         YEM  2014   \n",
      "13372                                          Zambia         ZMB  2014   \n",
      "13373                                        Zimbabwe         ZWE  2014   \n",
      "\n",
      "       Total Population  Urban population (% of total)  \n",
      "0          9.249590e+07                      31.285384  \n",
      "1          4.190810e+06                      31.597490  \n",
      "2          9.140158e+07                      44.507921  \n",
      "3          1.042475e+09                      22.471132  \n",
      "4          8.964930e+08                      16.917679  \n",
      "5          2.653965e+08                      62.096947  \n",
      "6          6.674890e+08                      55.378977  \n",
      "7          1.553174e+08                      38.066129  \n",
      "8          4.094985e+08                      61.212898  \n",
      "9          1.203546e+08                      17.891972  \n",
      "10         1.624912e+08                      12.236046  \n",
      "11         9.075975e+08                      62.680332  \n",
      "12         1.866767e+08                      56.107863  \n",
      "13         7.209208e+08                      64.285435  \n",
      "14         2.205642e+08                      49.284688  \n",
      "15         1.776822e+08                      44.863308  \n",
      "16         2.410728e+08                       9.616261  \n",
      "17         2.127373e+09                      21.272894  \n",
      "18         1.571884e+08                      11.498396  \n",
      "19         9.429116e+08                      19.810513  \n",
      "20         1.055126e+08                      34.951334  \n",
      "21         9.786942e+07                      33.875012  \n",
      "22         1.970185e+09                      22.053114  \n",
      "23         1.986244e+08                      69.918403  \n",
      "24         7.866482e+08                      62.480915  \n",
      "25         6.590560e+06                      14.337844  \n",
      "26         8.613780e+05                      22.043762  \n",
      "27         1.164275e+07                      21.120573  \n",
      "28         5.720361e+08                      16.735545  \n",
      "29         2.282688e+08                      14.631387  \n",
      "...                 ...                            ...  \n",
      "13344      9.689555e+06                      85.665000  \n",
      "13345      8.190229e+06                      73.844000  \n",
      "13346      2.215780e+07                      57.255000  \n",
      "13347      8.295840e+06                      26.692000  \n",
      "13348      5.182262e+07                      30.901000  \n",
      "13349      6.772598e+07                      49.174000  \n",
      "13350      1.212107e+06                      32.131000  \n",
      "13351      7.115163e+06                      39.469000  \n",
      "13352      1.055860e+05                      23.632000  \n",
      "13353      1.354483e+06                       8.550000  \n",
      "13354      1.099660e+07                      66.645000  \n",
      "13355      7.593235e+07                      72.891000  \n",
      "13356      5.307188e+06                      49.688000  \n",
      "13357      3.374000e+04                      91.847000  \n",
      "13358      9.893000e+03                      58.782000  \n",
      "13359      3.778297e+07                      15.766000  \n",
      "13360      4.536290e+07                      69.482000  \n",
      "13361      9.086139e+06                      85.266000  \n",
      "13362      6.451038e+07                      82.345000  \n",
      "13363      3.188571e+08                      81.447000  \n",
      "13364      3.419516e+06                      95.152000  \n",
      "13365      3.075770e+07                      36.278000  \n",
      "13366      2.588830e+05                      25.817000  \n",
      "13367      3.069383e+07                      88.941000  \n",
      "13368      9.073000e+07                      32.951000  \n",
      "13369      1.041700e+05                      95.203000  \n",
      "13370      4.294682e+06                      75.026000  \n",
      "13371      2.618368e+07                      34.027000  \n",
      "13372      1.572134e+07                      40.472000  \n",
      "13373      1.524586e+07                      32.501000  \n",
      "\n",
      "[13374 rows x 5 columns]\n"
     ]
    }
   ],
   "source": [
    "file = 'https://s3.amazonaws.com/assets.datacamp.com/production/course_1639/datasets/world_ind_pop_data.csv'\n",
    "df = pd.read_csv(file)\n",
    "\n",
    "print(df)"
   ]
  },
  {
   "cell_type": "markdown",
   "metadata": {},
   "source": [
    "As you can see above, we used the built-in pandas function, `read_csv()` to input the file into Python. Just to confirm that the file was properly converted into a DataFrame, let's take a look at what the data type is."
   ]
  },
  {
   "cell_type": "code",
   "execution_count": 18,
   "metadata": {},
   "outputs": [
    {
     "name": "stdout",
     "output_type": "stream",
     "text": [
      "<class 'pandas.core.frame.DataFrame'>\n"
     ]
    }
   ],
   "source": [
    "print(type(df))"
   ]
  },
  {
   "cell_type": "markdown",
   "metadata": {},
   "source": [
    "Previously, we used the `type()` method to check the data type of our converted CSV file, but `pandas` actually provides users with an `info()` function to display a concise summary of a given DataFrame. Let's take a look at what `pandas` has to say about the World Bank dataset."
   ]
  },
  {
   "cell_type": "code",
   "execution_count": 19,
   "metadata": {},
   "outputs": [
    {
     "name": "stdout",
     "output_type": "stream",
     "text": [
      "<class 'pandas.core.frame.DataFrame'>\n",
      "RangeIndex: 13374 entries, 0 to 13373\n",
      "Data columns (total 5 columns):\n",
      "CountryName                      13374 non-null object\n",
      "CountryCode                      13374 non-null object\n",
      "Year                             13374 non-null int64\n",
      "Total Population                 13374 non-null float64\n",
      "Urban population (% of total)    13374 non-null float64\n",
      "dtypes: float64(2), int64(1), object(2)\n",
      "memory usage: 522.5+ KB\n"
     ]
    }
   ],
   "source": [
    "df.info()"
   ]
  },
  {
   "cell_type": "markdown",
   "metadata": {},
   "source": [
    "The very first line, as you can see, tells us what type it is -- awesome. Additionally, we have useful information involving the size of the data, the data types of each column, and more. This is a wonderful substitute to having to call different methods like `len()`, `type()`, etc., on our DataFrame."
   ]
  },
  {
   "cell_type": "markdown",
   "metadata": {},
   "source": [
    "Unless you opened up the link provided above, you've likely not seen what the actual data looks like. To fix that, you can utilize another crucial method of `pandas` called `head()`. As default it prints the column names and the first five rows of the DataFrame you call the method on, but if you want to adjust the number, you can feed it whatever number you'd like."
   ]
  },
  {
   "cell_type": "code",
   "execution_count": 20,
   "metadata": {},
   "outputs": [
    {
     "name": "stdout",
     "output_type": "stream",
     "text": [
      "                               CountryName CountryCode  Year  \\\n",
      "0                               Arab World         ARB  1960   \n",
      "1                   Caribbean small states         CSS  1960   \n",
      "2           Central Europe and the Baltics         CEB  1960   \n",
      "3  East Asia & Pacific (all income levels)         EAS  1960   \n",
      "4    East Asia & Pacific (developing only)         EAP  1960   \n",
      "\n",
      "   Total Population  Urban population (% of total)  \n",
      "0      9.249590e+07                      31.285384  \n",
      "1      4.190810e+06                      31.597490  \n",
      "2      9.140158e+07                      44.507921  \n",
      "3      1.042475e+09                      22.471132  \n",
      "4      8.964930e+08                      16.917679  \n"
     ]
    }
   ],
   "source": [
    "print(df.head())"
   ]
  },
  {
   "cell_type": "code",
   "execution_count": 21,
   "metadata": {},
   "outputs": [
    {
     "data": {
      "text/html": [
       "<div>\n",
       "<style>\n",
       "    .dataframe thead tr:only-child th {\n",
       "        text-align: right;\n",
       "    }\n",
       "\n",
       "    .dataframe thead th {\n",
       "        text-align: left;\n",
       "    }\n",
       "\n",
       "    .dataframe tbody tr th {\n",
       "        vertical-align: top;\n",
       "    }\n",
       "</style>\n",
       "<table border=\"1\" class=\"dataframe\">\n",
       "  <thead>\n",
       "    <tr style=\"text-align: right;\">\n",
       "      <th></th>\n",
       "      <th>CountryName</th>\n",
       "      <th>CountryCode</th>\n",
       "      <th>Year</th>\n",
       "      <th>Total Population</th>\n",
       "      <th>Urban population (% of total)</th>\n",
       "    </tr>\n",
       "  </thead>\n",
       "  <tbody>\n",
       "    <tr>\n",
       "      <th>0</th>\n",
       "      <td>Arab World</td>\n",
       "      <td>ARB</td>\n",
       "      <td>1960</td>\n",
       "      <td>92495902.0</td>\n",
       "      <td>31.285384</td>\n",
       "    </tr>\n",
       "    <tr>\n",
       "      <th>1</th>\n",
       "      <td>Caribbean small states</td>\n",
       "      <td>CSS</td>\n",
       "      <td>1960</td>\n",
       "      <td>4190810.0</td>\n",
       "      <td>31.597490</td>\n",
       "    </tr>\n",
       "  </tbody>\n",
       "</table>\n",
       "</div>"
      ],
      "text/plain": [
       "              CountryName CountryCode  Year  Total Population  \\\n",
       "0              Arab World         ARB  1960        92495902.0   \n",
       "1  Caribbean small states         CSS  1960         4190810.0   \n",
       "\n",
       "   Urban population (% of total)  \n",
       "0                      31.285384  \n",
       "1                      31.597490  "
      ]
     },
     "execution_count": 21,
     "metadata": {},
     "output_type": "execute_result"
    }
   ],
   "source": [
    "df.head(2)"
   ]
  },
  {
   "cell_type": "markdown",
   "metadata": {},
   "source": [
    "On the opposite end, you can also display the last 10 rows of a given DataFrame as well, using the `tail()` method."
   ]
  },
  {
   "cell_type": "code",
   "execution_count": 22,
   "metadata": {},
   "outputs": [
    {
     "data": {
      "text/html": [
       "<div>\n",
       "<style>\n",
       "    .dataframe thead tr:only-child th {\n",
       "        text-align: right;\n",
       "    }\n",
       "\n",
       "    .dataframe thead th {\n",
       "        text-align: left;\n",
       "    }\n",
       "\n",
       "    .dataframe tbody tr th {\n",
       "        vertical-align: top;\n",
       "    }\n",
       "</style>\n",
       "<table border=\"1\" class=\"dataframe\">\n",
       "  <thead>\n",
       "    <tr style=\"text-align: right;\">\n",
       "      <th></th>\n",
       "      <th>CountryName</th>\n",
       "      <th>CountryCode</th>\n",
       "      <th>Year</th>\n",
       "      <th>Total Population</th>\n",
       "      <th>Urban population (% of total)</th>\n",
       "    </tr>\n",
       "  </thead>\n",
       "  <tbody>\n",
       "    <tr>\n",
       "      <th>13364</th>\n",
       "      <td>Uruguay</td>\n",
       "      <td>URY</td>\n",
       "      <td>2014</td>\n",
       "      <td>3419516.0</td>\n",
       "      <td>95.152</td>\n",
       "    </tr>\n",
       "    <tr>\n",
       "      <th>13365</th>\n",
       "      <td>Uzbekistan</td>\n",
       "      <td>UZB</td>\n",
       "      <td>2014</td>\n",
       "      <td>30757700.0</td>\n",
       "      <td>36.278</td>\n",
       "    </tr>\n",
       "    <tr>\n",
       "      <th>13366</th>\n",
       "      <td>Vanuatu</td>\n",
       "      <td>VUT</td>\n",
       "      <td>2014</td>\n",
       "      <td>258883.0</td>\n",
       "      <td>25.817</td>\n",
       "    </tr>\n",
       "    <tr>\n",
       "      <th>13367</th>\n",
       "      <td>Venezuela, RB</td>\n",
       "      <td>VEN</td>\n",
       "      <td>2014</td>\n",
       "      <td>30693827.0</td>\n",
       "      <td>88.941</td>\n",
       "    </tr>\n",
       "    <tr>\n",
       "      <th>13368</th>\n",
       "      <td>Vietnam</td>\n",
       "      <td>VNM</td>\n",
       "      <td>2014</td>\n",
       "      <td>90730000.0</td>\n",
       "      <td>32.951</td>\n",
       "    </tr>\n",
       "    <tr>\n",
       "      <th>13369</th>\n",
       "      <td>Virgin Islands (U.S.)</td>\n",
       "      <td>VIR</td>\n",
       "      <td>2014</td>\n",
       "      <td>104170.0</td>\n",
       "      <td>95.203</td>\n",
       "    </tr>\n",
       "    <tr>\n",
       "      <th>13370</th>\n",
       "      <td>West Bank and Gaza</td>\n",
       "      <td>WBG</td>\n",
       "      <td>2014</td>\n",
       "      <td>4294682.0</td>\n",
       "      <td>75.026</td>\n",
       "    </tr>\n",
       "    <tr>\n",
       "      <th>13371</th>\n",
       "      <td>Yemen, Rep.</td>\n",
       "      <td>YEM</td>\n",
       "      <td>2014</td>\n",
       "      <td>26183676.0</td>\n",
       "      <td>34.027</td>\n",
       "    </tr>\n",
       "    <tr>\n",
       "      <th>13372</th>\n",
       "      <td>Zambia</td>\n",
       "      <td>ZMB</td>\n",
       "      <td>2014</td>\n",
       "      <td>15721343.0</td>\n",
       "      <td>40.472</td>\n",
       "    </tr>\n",
       "    <tr>\n",
       "      <th>13373</th>\n",
       "      <td>Zimbabwe</td>\n",
       "      <td>ZWE</td>\n",
       "      <td>2014</td>\n",
       "      <td>15245855.0</td>\n",
       "      <td>32.501</td>\n",
       "    </tr>\n",
       "  </tbody>\n",
       "</table>\n",
       "</div>"
      ],
      "text/plain": [
       "                 CountryName CountryCode  Year  Total Population  \\\n",
       "13364                Uruguay         URY  2014         3419516.0   \n",
       "13365             Uzbekistan         UZB  2014        30757700.0   \n",
       "13366                Vanuatu         VUT  2014          258883.0   \n",
       "13367          Venezuela, RB         VEN  2014        30693827.0   \n",
       "13368                Vietnam         VNM  2014        90730000.0   \n",
       "13369  Virgin Islands (U.S.)         VIR  2014          104170.0   \n",
       "13370     West Bank and Gaza         WBG  2014         4294682.0   \n",
       "13371            Yemen, Rep.         YEM  2014        26183676.0   \n",
       "13372                 Zambia         ZMB  2014        15721343.0   \n",
       "13373               Zimbabwe         ZWE  2014        15245855.0   \n",
       "\n",
       "       Urban population (% of total)  \n",
       "13364                         95.152  \n",
       "13365                         36.278  \n",
       "13366                         25.817  \n",
       "13367                         88.941  \n",
       "13368                         32.951  \n",
       "13369                         95.203  \n",
       "13370                         75.026  \n",
       "13371                         34.027  \n",
       "13372                         40.472  \n",
       "13373                         32.501  "
      ]
     },
     "execution_count": 22,
     "metadata": {},
     "output_type": "execute_result"
    }
   ],
   "source": [
    "df.tail(10)"
   ]
  },
  {
   "cell_type": "markdown",
   "metadata": {},
   "source": [
    "Earlier in this tutorial, we selected a column from the DataFrame we built using a dictionary. The same can be done an **any** DataFrame, including those which began as a CSV file. With that said, we'll review an example by selecting the `Total Population` column from the World Bank dataset."
   ]
  },
  {
   "cell_type": "code",
   "execution_count": 23,
   "metadata": {},
   "outputs": [
    {
     "name": "stdout",
     "output_type": "stream",
     "text": [
      "0    9.249590e+07\n",
      "1    4.190810e+06\n",
      "2    9.140158e+07\n",
      "3    1.042475e+09\n",
      "4    8.964930e+08\n",
      "Name: Total Population, dtype: float64\n"
     ]
    }
   ],
   "source": [
    "print(df['Total Population'].head()) # called the head function so we don't have to view the entire column"
   ]
  },
  {
   "cell_type": "markdown",
   "metadata": {},
   "source": [
    "Now that we've reviewed how to select columns from DataFrames, how do we go about selecting *rows* from a DataFrame? \n",
    "\n",
    "A simple way is to use the built-in `ix` function, which can take either a single parameter to select **1** row, or it can take in a range using list slicing rules you've seen in regular Python lists. \n",
    "\n",
    "Below we'll print 5 rows using this method: "
   ]
  },
  {
   "cell_type": "code",
   "execution_count": 41,
   "metadata": {},
   "outputs": [
    {
     "name": "stdout",
     "output_type": "stream",
     "text": [
      "                                  CountryName CountryCode  Year  \\\n",
      "5                                   Euro area         EMU  1960   \n",
      "6   Europe & Central Asia (all income levels)         ECS  1960   \n",
      "7     Europe & Central Asia (developing only)         ECA  1960   \n",
      "8                              European Union         EUU  1960   \n",
      "9    Fragile and conflict affected situations         FCS  1960   \n",
      "10     Heavily indebted poor countries (HIPC)         HPC  1960   \n",
      "\n",
      "    Total Population  Urban population (% of total)  \n",
      "5        265396501.0                      62.096947  \n",
      "6        667489033.0                      55.378977  \n",
      "7        155317369.0                      38.066129  \n",
      "8        409498462.0                      61.212898  \n",
      "9        120354582.0                      17.891972  \n",
      "10       162491185.0                      12.236046  \n"
     ]
    },
    {
     "name": "stderr",
     "output_type": "stream",
     "text": [
      "/usr/local/lib/python3.6/site-packages/ipykernel_launcher.py:1: DeprecationWarning: \n",
      ".ix is deprecated. Please use\n",
      ".loc for label based indexing or\n",
      ".iloc for positional indexing\n",
      "\n",
      "See the documentation here:\n",
      "http://pandas.pydata.org/pandas-docs/stable/indexing.html#ix-indexer-is-deprecated\n",
      "  \"\"\"Entry point for launching an IPython kernel.\n"
     ]
    }
   ],
   "source": [
    "print(df.ix[5:10])"
   ]
  },
  {
   "cell_type": "markdown",
   "metadata": {},
   "source": [
    "### Apply\n",
    "\n",
    "Lets's generate a random dictionary:"
   ]
  },
  {
   "cell_type": "code",
   "execution_count": 45,
   "metadata": {},
   "outputs": [
    {
     "name": "stdout",
     "output_type": "stream",
     "text": [
      "               b         d         e\n",
      "Utah    1.824797  1.538739  1.277535\n",
      "Ohio   -0.280938  0.933722 -0.450051\n",
      "Texas  -0.015748  0.064026  0.158915\n",
      "Oregon -0.591756  0.595281 -0.143778\n"
     ]
    }
   ],
   "source": [
    "import numpy as np\n",
    "frame = pd.DataFrame(np.random.randn(4, 3), columns=list('bde'), index=['Utah', 'Ohio', 'Texas', 'Oregon'])\n",
    "\n",
    "print(frame)"
   ]
  },
  {
   "cell_type": "markdown",
   "metadata": {},
   "source": [
    "With this, we can apply a function on a DataFrame:"
   ]
  },
  {
   "cell_type": "code",
   "execution_count": 46,
   "metadata": {},
   "outputs": [
    {
     "data": {
      "text/html": [
       "<div>\n",
       "<style>\n",
       "    .dataframe thead tr:only-child th {\n",
       "        text-align: right;\n",
       "    }\n",
       "\n",
       "    .dataframe thead th {\n",
       "        text-align: left;\n",
       "    }\n",
       "\n",
       "    .dataframe tbody tr th {\n",
       "        vertical-align: top;\n",
       "    }\n",
       "</style>\n",
       "<table border=\"1\" class=\"dataframe\">\n",
       "  <thead>\n",
       "    <tr style=\"text-align: right;\">\n",
       "      <th></th>\n",
       "      <th>b</th>\n",
       "      <th>d</th>\n",
       "      <th>e</th>\n",
       "    </tr>\n",
       "  </thead>\n",
       "  <tbody>\n",
       "    <tr>\n",
       "      <th>Utah</th>\n",
       "      <td>1.824797</td>\n",
       "      <td>1.538739</td>\n",
       "      <td>1.277535</td>\n",
       "    </tr>\n",
       "    <tr>\n",
       "      <th>Ohio</th>\n",
       "      <td>0.280938</td>\n",
       "      <td>0.933722</td>\n",
       "      <td>0.450051</td>\n",
       "    </tr>\n",
       "    <tr>\n",
       "      <th>Texas</th>\n",
       "      <td>0.015748</td>\n",
       "      <td>0.064026</td>\n",
       "      <td>0.158915</td>\n",
       "    </tr>\n",
       "    <tr>\n",
       "      <th>Oregon</th>\n",
       "      <td>0.591756</td>\n",
       "      <td>0.595281</td>\n",
       "      <td>0.143778</td>\n",
       "    </tr>\n",
       "  </tbody>\n",
       "</table>\n",
       "</div>"
      ],
      "text/plain": [
       "               b         d         e\n",
       "Utah    1.824797  1.538739  1.277535\n",
       "Ohio    0.280938  0.933722  0.450051\n",
       "Texas   0.015748  0.064026  0.158915\n",
       "Oregon  0.591756  0.595281  0.143778"
      ]
     },
     "execution_count": 46,
     "metadata": {},
     "output_type": "execute_result"
    }
   ],
   "source": [
    "np.abs(frame)"
   ]
  },
  {
   "cell_type": "markdown",
   "metadata": {},
   "source": [
    "We can also apply functions with the `apply()` method:"
   ]
  },
  {
   "cell_type": "code",
   "execution_count": 47,
   "metadata": {},
   "outputs": [
    {
     "name": "stdout",
     "output_type": "stream",
     "text": [
      "b    2.416554\n",
      "d    1.474713\n",
      "e    1.727587\n",
      "dtype: float64\n"
     ]
    }
   ],
   "source": [
    "f = lambda x: x.max() - x.min()\n",
    "\n",
    "print(frame.apply(f))"
   ]
  },
  {
   "cell_type": "code",
   "execution_count": 28,
   "metadata": {},
   "outputs": [
    {
     "name": "stdout",
     "output_type": "stream",
     "text": [
      "               b         d         e\n",
      "Utah    0.866926 -0.104468 -1.201680\n",
      "Ohio   -0.031610  0.008895  0.100290\n",
      "Texas  -0.342475  0.341394 -2.020873\n",
      "Oregon  0.666301  0.526818  0.749407\n"
     ]
    }
   ],
   "source": [
    "f = lambda x: np.abs(x)\n",
    "\n",
    "frame.apply(f)\n",
    "\n",
    "print(frame)"
   ]
  },
  {
   "cell_type": "markdown",
   "metadata": {},
   "source": [
    "## Challenge Question \n",
    "\n",
    "Does the `pandas.DataFrame.apply()` function modify the original DataFrame or return a new DataFrame?"
   ]
  },
  {
   "cell_type": "markdown",
   "metadata": {},
   "source": [
    "#### Sorting\n",
    "\n",
    "To sort lexicographically by row or column index, use the sort_index method, which returns a new, sorted object:"
   ]
  },
  {
   "cell_type": "code",
   "execution_count": 29,
   "metadata": {},
   "outputs": [
    {
     "data": {
      "text/html": [
       "<div>\n",
       "<style>\n",
       "    .dataframe thead tr:only-child th {\n",
       "        text-align: right;\n",
       "    }\n",
       "\n",
       "    .dataframe thead th {\n",
       "        text-align: left;\n",
       "    }\n",
       "\n",
       "    .dataframe tbody tr th {\n",
       "        vertical-align: top;\n",
       "    }\n",
       "</style>\n",
       "<table border=\"1\" class=\"dataframe\">\n",
       "  <thead>\n",
       "    <tr style=\"text-align: right;\">\n",
       "      <th></th>\n",
       "      <th>b</th>\n",
       "      <th>d</th>\n",
       "      <th>e</th>\n",
       "    </tr>\n",
       "  </thead>\n",
       "  <tbody>\n",
       "    <tr>\n",
       "      <th>Ohio</th>\n",
       "      <td>-0.031610</td>\n",
       "      <td>0.008895</td>\n",
       "      <td>0.100290</td>\n",
       "    </tr>\n",
       "    <tr>\n",
       "      <th>Oregon</th>\n",
       "      <td>0.666301</td>\n",
       "      <td>0.526818</td>\n",
       "      <td>0.749407</td>\n",
       "    </tr>\n",
       "    <tr>\n",
       "      <th>Texas</th>\n",
       "      <td>-0.342475</td>\n",
       "      <td>0.341394</td>\n",
       "      <td>-2.020873</td>\n",
       "    </tr>\n",
       "    <tr>\n",
       "      <th>Utah</th>\n",
       "      <td>0.866926</td>\n",
       "      <td>-0.104468</td>\n",
       "      <td>-1.201680</td>\n",
       "    </tr>\n",
       "  </tbody>\n",
       "</table>\n",
       "</div>"
      ],
      "text/plain": [
       "               b         d         e\n",
       "Ohio   -0.031610  0.008895  0.100290\n",
       "Oregon  0.666301  0.526818  0.749407\n",
       "Texas  -0.342475  0.341394 -2.020873\n",
       "Utah    0.866926 -0.104468 -1.201680"
      ]
     },
     "execution_count": 29,
     "metadata": {},
     "output_type": "execute_result"
    }
   ],
   "source": [
    "frame.sort_index()"
   ]
  },
  {
   "cell_type": "markdown",
   "metadata": {},
   "source": [
    "## Data Merging\n",
    "\n",
    "If you encounter two different datasets that contain the same type of information, you might consider merging them for your analyses. This is yet another functionality built into `pandas`. \n",
    "\n",
    "Let's go through an example containing student data. `d1` contains 5 of the samples and `d2` contains 2 of them: "
   ]
  },
  {
   "cell_type": "code",
   "execution_count": 30,
   "metadata": {},
   "outputs": [
    {
     "name": "stdout",
     "output_type": "stream",
     "text": [
      "  First Name  Last Name\n",
      "0     Lesley    Cordero\n",
      "1       Ojas      Sathe\n",
      "2      Helen       Chen\n",
      "3        Eli   Epperson\n",
      "4      Jacob  Greenberg\n"
     ]
    }
   ],
   "source": [
    "d1 = pd.read_csv(\"./names_original.csv\")\n",
    "print(d1)"
   ]
  },
  {
   "cell_type": "code",
   "execution_count": 31,
   "metadata": {},
   "outputs": [
    {
     "name": "stdout",
     "output_type": "stream",
     "text": [
      "<class 'pandas.core.frame.DataFrame'>\n"
     ]
    }
   ],
   "source": [
    "print(type(d1))"
   ]
  },
  {
   "cell_type": "code",
   "execution_count": 32,
   "metadata": {},
   "outputs": [
    {
     "name": "stdout",
     "output_type": "stream",
     "text": [
      "  First Name Last Name\n",
      "0     Martin     Perez\n",
      "1      Menna   Elsayed\n"
     ]
    }
   ],
   "source": [
    "d2 = pd.read_csv(\"./names_add.csv\")\n",
    "print(d2)"
   ]
  },
  {
   "cell_type": "markdown",
   "metadata": {},
   "source": [
    "### Concatenation \n",
    "\n",
    "Instead of working with two separate datasets, it's much easier to simply merge, so we do this with the `concat()` function:\n"
   ]
  },
  {
   "cell_type": "code",
   "execution_count": 33,
   "metadata": {},
   "outputs": [
    {
     "name": "stdout",
     "output_type": "stream",
     "text": [
      "  First Name  Last Name\n",
      "0     Lesley    Cordero\n",
      "1       Ojas      Sathe\n",
      "2      Helen       Chen\n",
      "3        Eli   Epperson\n",
      "4      Jacob  Greenberg\n",
      "0     Martin      Perez\n",
      "1      Menna    Elsayed\n"
     ]
    }
   ],
   "source": [
    "result = pd.concat([d1,d2])\n",
    "print(result)"
   ]
  },
  {
   "cell_type": "markdown",
   "metadata": {},
   "source": [
    "Now, you might be asking what will happen if one of the datasets has more columns than other - will they still be allowed to merge? Let's try this example with another dataset:"
   ]
  },
  {
   "cell_type": "code",
   "execution_count": 34,
   "metadata": {},
   "outputs": [
    {
     "name": "stdout",
     "output_type": "stream",
     "text": [
      "  First Name Last Name                   Major\n",
      "0     Martin     Perez  Mechanical Engineering\n",
      "1      Menna   Elsayed               Sociology\n"
     ]
    }
   ],
   "source": [
    "d3 = pd.read_csv(\"./names_extra.csv\")\n",
    "print(d3)"
   ]
  },
  {
   "cell_type": "markdown",
   "metadata": {},
   "source": [
    "If we use the same `concat()` function, we get:"
   ]
  },
  {
   "cell_type": "code",
   "execution_count": 35,
   "metadata": {},
   "outputs": [
    {
     "name": "stdout",
     "output_type": "stream",
     "text": [
      "  First Name  Last Name                   Major\n",
      "0     Lesley    Cordero                     NaN\n",
      "1       Ojas      Sathe                     NaN\n",
      "2      Helen       Chen                     NaN\n",
      "3        Eli   Epperson                     NaN\n",
      "4      Jacob  Greenberg                     NaN\n",
      "0     Martin      Perez  Mechanical Engineering\n",
      "1      Menna    Elsayed               Sociology\n"
     ]
    }
   ],
   "source": [
    "result1 = pd.concat([d1, d3])\n",
    "print(result1)"
   ]
  },
  {
   "cell_type": "markdown",
   "metadata": {},
   "source": [
    "Notice the `NaN` values - these are undefined values indicating there wasn't any data to be displayed. `pandas` will simply fill in the missing data for each sample where it's unavailable:  "
   ]
  },
  {
   "cell_type": "markdown",
   "metadata": {},
   "source": [
    "## Challenge Question\n",
    "\n",
    "Does the `pandas.DataFrame.concat()` function modify a original DataFrame or return a new DataFrame?"
   ]
  },
  {
   "cell_type": "markdown",
   "metadata": {},
   "source": [
    "### Merging\n",
    "\n",
    "Now, how do we merge two datasets with differing columns? Well, let's take a look at our datasets:"
   ]
  },
  {
   "cell_type": "code",
   "execution_count": 36,
   "metadata": {},
   "outputs": [
    {
     "name": "stdout",
     "output_type": "stream",
     "text": [
      "          Dorm            Name\n",
      "0  East Campus      Helen Chen\n",
      "1     Broadway   Danielle Jing\n",
      "2      Shapiro    Craig Rhodes\n",
      "3         Watt  Lesley Cordero\n",
      "4  East Campus    Martin Perez\n",
      "5     Broadway   Menna Elsayed\n",
      "6      Wallach   Will Essilfie\n"
     ]
    }
   ],
   "source": [
    "h1 = pd.read_csv(\"./housing.csv\")\n",
    "print(h1)"
   ]
  },
  {
   "cell_type": "code",
   "execution_count": 37,
   "metadata": {},
   "outputs": [
    {
     "name": "stdout",
     "output_type": "stream",
     "text": [
      "          Dorm Street    Cost\n",
      "0     Broadway  114th    9000\n",
      "1      Shapiro  115th    9500\n",
      "2         Watt  113th   10500\n",
      "3  East Campus  116th  11,000\n",
      "4      Wallach  114th    9500\n"
     ]
    }
   ],
   "source": [
    "h2 = pd.read_csv(\"./dorms.csv\")\n",
    "print(h2)"
   ]
  },
  {
   "cell_type": "markdown",
   "metadata": {},
   "source": [
    "With the `merge()` function in pandas, we can specify which column to merge on and what kind of join to specify. By default merge does an 'inner' join, but here we set it to a left join:"
   ]
  },
  {
   "cell_type": "code",
   "execution_count": 38,
   "metadata": {},
   "outputs": [
    {
     "name": "stdout",
     "output_type": "stream",
     "text": [
      "          Dorm            Name Street    Cost\n",
      "0  East Campus      Helen Chen  116th  11,000\n",
      "1     Broadway   Danielle Jing  114th    9000\n",
      "2      Shapiro    Craig Rhodes  115th    9500\n",
      "3         Watt  Lesley Cordero  113th   10500\n",
      "4  East Campus    Martin Perez  116th  11,000\n",
      "5     Broadway   Menna Elsayed  114th    9000\n",
      "6      Wallach   Will Essilfie  114th    9500\n"
     ]
    }
   ],
   "source": [
    "house = pd.merge(h1, h2, on=\"Dorm\", how=\"left\")\n",
    "print(house)"
   ]
  },
  {
   "cell_type": "markdown",
   "metadata": {},
   "source": [
    "## Challenge Question\n",
    "\n",
    "Does the `pandas.DataFrame.merge()` function modify a original DataFrame or return a new DataFrame?"
   ]
  },
  {
   "cell_type": "markdown",
   "metadata": {
    "collapsed": true
   },
   "source": [
    "## Resources\n",
    "\n",
    "[Pandas Learning Resources](https://chatbotslife.com/pandas-learning-resources-946540ba574e) <br>\n",
    "[GeoPandas Tutorial](https://www.twilio.com/blog/2017/08/geospatial-analysis-python-geojson-geopandas.html)"
   ]
  },
  {
   "cell_type": "code",
   "execution_count": null,
   "metadata": {},
   "outputs": [],
   "source": []
  }
 ],
 "metadata": {
  "anaconda-cloud": {},
  "kernelspec": {
   "display_name": "Python 3",
   "language": "python",
   "name": "python3"
  },
  "language_info": {
   "codemirror_mode": {
    "name": "ipython",
    "version": 3
   },
   "file_extension": ".py",
   "mimetype": "text/x-python",
   "name": "python",
   "nbconvert_exporter": "python",
   "pygments_lexer": "ipython3",
   "version": "3.6.2"
  }
 },
 "nbformat": 4,
 "nbformat_minor": 2
}
